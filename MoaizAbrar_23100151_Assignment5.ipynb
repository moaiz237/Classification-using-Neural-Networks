{
  "cells": [
    {
      "cell_type": "markdown",
      "metadata": {
        "id": "j6_DLRhh7zXA"
      },
      "source": [
        "# Assignment 5 - Neural Networks\n",
        "\n",
        "\n",
        "#### Roll Number: 23100151"
      ]
    },
    {
      "cell_type": "markdown",
      "metadata": {
        "id": "EyusByDc74A0"
      },
      "source": [
        "### Task Explanation"
      ]
    },
    {
      "cell_type": "markdown",
      "metadata": {
        "id": "NEDxZ7d875RE"
      },
      "source": [
        "In this assignment, we will see how changes in the neural network architecture and the hyperparameters can have an effect on how the network performs \n",
        "\n",
        "Wheat rust is a devastating plant disease that affects many crops, reducing yields and affecting the livelihoods of farmers and decreasing food security across the continent. The disease is difficult to monitor at a large scale, making it difficult to control and eradicate.\n",
        "\n",
        "The objective of this challenge is to see how small changes in the model architecture and the hyperparameters can have an effect on the final results. You are required to add screenshots of the results (the accuracy, history and loss graphs and the confusion matrix) with the changes you made in the architecture and the hyperparameters in a pdf file, and submit it along with the code.\n",
        "\n",
        "ALL THE CODE HAS ALREADY BEEN WRITTEN FOR YOU. YOU ARE ONLY REQUIRED TO MAKE CHANGES IN THE CODE WHERE IT IS ASKED OF YOU"
      ]
    },
    {
      "cell_type": "markdown",
      "metadata": {
        "id": "gi0LGVvZ8For"
      },
      "source": [
        "### Let's Start"
      ]
    },
    {
      "cell_type": "markdown",
      "metadata": {
        "id": "XTzuPmgx8HBc"
      },
      "source": [
        "Make necessary imports here e.g. import cv2, import glob, etc"
      ]
    },
    {
      "cell_type": "code",
      "execution_count": null,
      "metadata": {
        "id": "j63bSz-_7qG_"
      },
      "outputs": [],
      "source": [
        "import cv2\n",
        "import glob\n",
        "import numpy as np\n",
        "import matplotlib.pyplot as plt\n",
        "from tensorflow.keras.layers import Dense, Conv2D, Dropout, BatchNormalization, Input, LeakyReLU, Flatten, Dropout, ReLU\n",
        "from tensorflow.keras.optimizers import Adam\n",
        "from tensorflow.keras import Model\n",
        "from sklearn.metrics import confusion_matrix\n",
        "import pandas as pd\n",
        "import seaborn as sns\n",
        "import keras\n",
        "import random\n",
        "from keras.datasets import mnist\n",
        "# any other imports that you may require"
      ]
    },
    {
      "cell_type": "markdown",
      "metadata": {
        "id": "Sjo9fKM98Mh8"
      },
      "source": [
        "### Hyperparameters"
      ]
    },
    {
      "cell_type": "markdown",
      "metadata": {
        "id": "_duJq-FH86Mu"
      },
      "source": [
        "CHANGE THESE ONLY WHEN YOU ARE ASKED TO LATER ON IN THE ASSIGNMENT"
      ]
    },
    {
      "cell_type": "code",
      "execution_count": null,
      "metadata": {
        "id": "_hV3BwFQ8Pwl"
      },
      "outputs": [],
      "source": [
        "batch_size = 32\n",
        "epochs = 30\n",
        "learning_rate = 0.0001\n",
        "input_shape = (256,256,3)"
      ]
    },
    {
      "cell_type": "markdown",
      "metadata": {
        "id": "DnIcmW5R8WH_"
      },
      "source": [
        "### Data"
      ]
    },
    {
      "cell_type": "markdown",
      "metadata": {
        "id": "UzDuqfJT8XVN"
      },
      "source": [
        "MAKE NO CHANGES IN THIS PART"
      ]
    },
    {
      "cell_type": "code",
      "execution_count": null,
      "metadata": {
        "id": "5f8zmUug8TGD",
        "colab": {
          "base_uri": "https://localhost:8080/"
        },
        "outputId": "f8dc698d-042a-4c03-e42a-297b716b3373"
      },
      "outputs": [
        {
          "output_type": "stream",
          "name": "stdout",
          "text": [
            "Cloning into 'WheatDiseaseDataset'...\n",
            "remote: Enumerating objects: 749, done.\u001b[K\n",
            "remote: Total 749 (delta 0), reused 0 (delta 0), pack-reused 749\u001b[K\n",
            "Receiving objects: 100% (749/749), 386.05 MiB | 30.22 MiB/s, done.\n",
            "Checking out files: 100% (877/877), done.\n"
          ]
        }
      ],
      "source": [
        "!git clone https://github.com/MMFa666/WheatDiseaseDataset.git"
      ]
    },
    {
      "cell_type": "code",
      "execution_count": null,
      "metadata": {
        "id": "MKdAUxVj8fop",
        "colab": {
          "base_uri": "https://localhost:8080/"
        },
        "outputId": "77159bd3-281f-48f4-baae-7b0fccf77b4a"
      },
      "outputs": [
        {
          "output_type": "stream",
          "name": "stdout",
          "text": [
            "113\n",
            "286\n",
            "300\n"
          ]
        }
      ],
      "source": [
        "healthy_wheat = '/content/WheatDiseaseDataset/train/healthy_wheat'\n",
        "leaf_rust = '/content/WheatDiseaseDataset/train/leaf_rust'\n",
        "stem_rust = '/content/WheatDiseaseDataset/train/stem_rust'\n",
        "healthy_wheat_files = glob.glob(healthy_wheat + '/*.jpg')\n",
        "leaf_rust_files = glob.glob(leaf_rust + '/*.jpg')\n",
        "stem_rust_files = glob.glob(stem_rust + '/*.jpg')\n",
        "print(len(healthy_wheat_files))\n",
        "print(len(leaf_rust_files))\n",
        "print(len(stem_rust_files))"
      ]
    },
    {
      "cell_type": "code",
      "execution_count": null,
      "metadata": {
        "id": "Vm-3N94D8hiH",
        "colab": {
          "base_uri": "https://localhost:8080/"
        },
        "outputId": "74c0ebb4-1a24-4e3e-9e2a-ff4caf78edca"
      },
      "outputs": [
        {
          "output_type": "execute_result",
          "data": {
            "text/plain": [
              "699"
            ]
          },
          "metadata": {},
          "execution_count": 6
        }
      ],
      "source": [
        "train_dir = '/content/WheatDiseaseDataset/train'\n",
        "train_files = glob.glob(train_dir + '/*/*.jpg')\n",
        "len(train_files)"
      ]
    },
    {
      "cell_type": "code",
      "execution_count": null,
      "metadata": {
        "id": "eWXz_BYn8lGM",
        "colab": {
          "base_uri": "https://localhost:8080/",
          "height": 36
        },
        "outputId": "2d3d7a9b-0130-4251-d74f-bb671a210df0"
      },
      "outputs": [
        {
          "output_type": "execute_result",
          "data": {
            "application/vnd.google.colaboratory.intrinsic+json": {
              "type": "string"
            },
            "text/plain": [
              "'leaf_rust'"
            ]
          },
          "metadata": {},
          "execution_count": 7
        }
      ],
      "source": [
        "x = train_files[0].split('/')\n",
        "x[4]"
      ]
    },
    {
      "cell_type": "code",
      "execution_count": null,
      "metadata": {
        "id": "h8wbdodb8n2O",
        "colab": {
          "base_uri": "https://localhost:8080/"
        },
        "outputId": "4e5e7362-6ae5-4fa8-b00d-e914e2c23665"
      },
      "outputs": [
        {
          "output_type": "execute_result",
          "data": {
            "text/plain": [
              "177"
            ]
          },
          "metadata": {},
          "execution_count": 8
        }
      ],
      "source": [
        "test_dir = '/content/WheatDiseaseDataset/test'\n",
        "test_files = glob.glob(test_dir + '/*/*.jpg')\n",
        "len(test_files)"
      ]
    },
    {
      "cell_type": "markdown",
      "metadata": {
        "id": "nImqz6ME8sYc"
      },
      "source": [
        "### Labels"
      ]
    },
    {
      "cell_type": "markdown",
      "metadata": {
        "id": "br8DmE5o8vXH"
      },
      "source": [
        "MAKE NO CHANGES IN THIS PART"
      ]
    },
    {
      "cell_type": "code",
      "execution_count": null,
      "metadata": {
        "id": "Y-39MpVH8q6j"
      },
      "outputs": [],
      "source": [
        "labels={}\n",
        "labels['healthy_wheat'] = 0\n",
        "labels['leaf_rust'] = 1\n",
        "labels['stem_rust'] = 2"
      ]
    },
    {
      "cell_type": "markdown",
      "metadata": {
        "id": "vYahBSJp80_e"
      },
      "source": [
        "### Preprocessing"
      ]
    },
    {
      "cell_type": "markdown",
      "metadata": {
        "id": "y3xcUZ979gRt"
      },
      "source": [
        "MAKE NO CHANGES IN THIS PART"
      ]
    },
    {
      "cell_type": "code",
      "execution_count": null,
      "metadata": {
        "id": "kYOOSV6I827u"
      },
      "outputs": [],
      "source": [
        "def preprocessing_norm(images):\n",
        "    return images/255.0"
      ]
    },
    {
      "cell_type": "markdown",
      "metadata": {
        "id": "V70tMYZk9ixs"
      },
      "source": [
        "### Batch Generator"
      ]
    },
    {
      "cell_type": "markdown",
      "metadata": {
        "id": "71wiqtN19nNw"
      },
      "source": [
        "MAKE NO CHANGES IN THIS PART"
      ]
    },
    {
      "cell_type": "code",
      "execution_count": null,
      "metadata": {
        "id": "hF1woJ9S9kzO"
      },
      "outputs": [],
      "source": [
        "def parse_path(filename):\n",
        "  one_hot = [0,0,0]\n",
        "  x = filename.split('/')\n",
        "  lab = x[4]\n",
        "  label = labels[lab]\n",
        "  one_hot[label] = one_hot[label] + 1\n",
        "  return one_hot\n",
        "\n",
        "def get_image(filename):\n",
        "  img = cv2.cvtColor(cv2.imread(filename), cv2.COLOR_BGR2RGB)\n",
        "  image = cv2.resize(img, (256,256))\n",
        "  return image\n",
        "\n",
        "def data_generator(data, batch_size):\n",
        "  total_size = len(data)\n",
        "  indexes = np.arange(0, total_size, batch_size)\n",
        "  if total_size % batch_size != 0:\n",
        "    indexes = indexes[:-1]  \n",
        "  while True:\n",
        "    np.random.shuffle(indexes)\n",
        "    for index in indexes:\n",
        "      batch_paths = data[index:index+batch_size]\n",
        "      batch_x = np.array([get_image(path) for path in batch_paths])\n",
        "      batch_y = np.array([parse_path(path) for path in batch_paths])\n",
        "      #batch_x = preprocessing_norm(batch_x)\n",
        "      yield batch_x, batch_y"
      ]
    },
    {
      "cell_type": "markdown",
      "metadata": {
        "id": "PtJRcEt4-LiN"
      },
      "source": [
        "Initialize train data generator"
      ]
    },
    {
      "cell_type": "code",
      "execution_count": null,
      "metadata": {
        "id": "HzqBr75E-MTk"
      },
      "outputs": [],
      "source": [
        "data = data_generator(train_files, batch_size)"
      ]
    },
    {
      "cell_type": "markdown",
      "metadata": {
        "id": "7la8cZaP-Odx"
      },
      "source": [
        "### Training"
      ]
    },
    {
      "cell_type": "markdown",
      "metadata": {
        "id": "55PhKZ77-UKU"
      },
      "source": [
        "THE BASE MODEL HAS ALREADY BEEN BUILT FOR YOU. INITIALIZE AND COMPILE THIS MODEL AND SAVE THE SCREENSHOTS OF THE RESULTS IN THE PDF. \n",
        "\n",
        "YOU WILL BE MAKING THE CHANGES TO THE ARCHITECTURE IN THIS CELL (SPECIFIED LATER IN THE ASSIGNMENT)"
      ]
    },
    {
      "cell_type": "code",
      "execution_count": null,
      "metadata": {
        "id": "pBVwuwMe-QZD"
      },
      "outputs": [],
      "source": [
        "input_img = Input(shape=(input_shape))\n",
        "l = Conv2D(256, kernel_size=(5,5),strides=(2,2))(input_img)\n",
        "l = BatchNormalization()(l)\n",
        "l = LeakyReLU()(l)\n",
        "l = Dropout(0.2)(l)\n",
        "l = Conv2D(128, kernel_size=(3,3),strides=(2,2))(l)\n",
        "l = BatchNormalization()(l)\n",
        "l = LeakyReLU()(l)\n",
        "l = Dropout(0.2)(l)\n",
        "l = Conv2D(64, kernel_size=(3,3),strides=(2,2))(l)\n",
        "l = BatchNormalization()(l)\n",
        "l = LeakyReLU()(l)\n",
        "l = Dropout(0.2)(l)\n",
        "l = Conv2D(64, kernel_size=(3,3),strides=(2,2))(l) \n",
        "l = BatchNormalization()(l) \n",
        "l = LeakyReLU()(l) \n",
        "l = Dropout(0.2)(l)\n",
        "l = Conv2D(32, kernel_size=(3,3),strides=(2,2))(l)\n",
        "l = BatchNormalization()(l)\n",
        "l = LeakyReLU()(l)\n",
        "l = Dropout(0.2)(l)\n",
        "l = Conv2D(16, kernel_size=(3,3),strides=(2,2))(l)\n",
        "l = BatchNormalization()(l)\n",
        "l = LeakyReLU()(l)\n",
        "l = Dropout(0.2)(l)\n",
        "l = Flatten()(l)\n",
        "l = Dense(128)(l)\n",
        "l = LeakyReLU()(l)\n",
        "l = Dropout(0.2)(l)\n",
        "l = Dense(32)(l)\n",
        "l = LeakyReLU()(l)\n",
        "l = Dropout(0.2)(l)\n",
        "output_class = Dense(3, activation='softmax')(l)\n",
        "\n",
        "model_initial = Model(inputs=input_img, outputs=output_class)"
      ]
    },
    {
      "cell_type": "code",
      "execution_count": null,
      "metadata": {
        "id": "c_xFicXS-e4T",
        "colab": {
          "base_uri": "https://localhost:8080/"
        },
        "outputId": "bf26e0cf-99e4-4c63-c387-933a06bc79b6"
      },
      "outputs": [
        {
          "output_type": "stream",
          "name": "stdout",
          "text": [
            "Model: \"model_2\"\n",
            "_________________________________________________________________\n",
            " Layer (type)                Output Shape              Param #   \n",
            "=================================================================\n",
            " input_3 (InputLayer)        [(None, 256, 256, 3)]     0         \n",
            "                                                                 \n",
            " conv2d_10 (Conv2D)          (None, 126, 126, 256)     19456     \n",
            "                                                                 \n",
            " batch_normalization_10 (Bat  (None, 126, 126, 256)    1024      \n",
            " chNormalization)                                                \n",
            "                                                                 \n",
            " leaky_re_lu_7 (LeakyReLU)   (None, 126, 126, 256)     0         \n",
            "                                                                 \n",
            " dropout_14 (Dropout)        (None, 126, 126, 256)     0         \n",
            "                                                                 \n",
            " conv2d_11 (Conv2D)          (None, 62, 62, 128)       295040    \n",
            "                                                                 \n",
            " batch_normalization_11 (Bat  (None, 62, 62, 128)      512       \n",
            " chNormalization)                                                \n",
            "                                                                 \n",
            " leaky_re_lu_8 (LeakyReLU)   (None, 62, 62, 128)       0         \n",
            "                                                                 \n",
            " dropout_15 (Dropout)        (None, 62, 62, 128)       0         \n",
            "                                                                 \n",
            " conv2d_12 (Conv2D)          (None, 30, 30, 64)        73792     \n",
            "                                                                 \n",
            " batch_normalization_12 (Bat  (None, 30, 30, 64)       256       \n",
            " chNormalization)                                                \n",
            "                                                                 \n",
            " leaky_re_lu_9 (LeakyReLU)   (None, 30, 30, 64)        0         \n",
            "                                                                 \n",
            " dropout_16 (Dropout)        (None, 30, 30, 64)        0         \n",
            "                                                                 \n",
            " conv2d_13 (Conv2D)          (None, 14, 14, 64)        36928     \n",
            "                                                                 \n",
            " batch_normalization_13 (Bat  (None, 14, 14, 64)       256       \n",
            " chNormalization)                                                \n",
            "                                                                 \n",
            " leaky_re_lu_10 (LeakyReLU)  (None, 14, 14, 64)        0         \n",
            "                                                                 \n",
            " dropout_17 (Dropout)        (None, 14, 14, 64)        0         \n",
            "                                                                 \n",
            " conv2d_14 (Conv2D)          (None, 6, 6, 32)          18464     \n",
            "                                                                 \n",
            " batch_normalization_14 (Bat  (None, 6, 6, 32)         128       \n",
            " chNormalization)                                                \n",
            "                                                                 \n",
            " leaky_re_lu_11 (LeakyReLU)  (None, 6, 6, 32)          0         \n",
            "                                                                 \n",
            " dropout_18 (Dropout)        (None, 6, 6, 32)          0         \n",
            "                                                                 \n",
            " conv2d_15 (Conv2D)          (None, 2, 2, 16)          4624      \n",
            "                                                                 \n",
            " batch_normalization_15 (Bat  (None, 2, 2, 16)         64        \n",
            " chNormalization)                                                \n",
            "                                                                 \n",
            " leaky_re_lu_12 (LeakyReLU)  (None, 2, 2, 16)          0         \n",
            "                                                                 \n",
            " dropout_19 (Dropout)        (None, 2, 2, 16)          0         \n",
            "                                                                 \n",
            " flatten_2 (Flatten)         (None, 64)                0         \n",
            "                                                                 \n",
            " dense_6 (Dense)             (None, 128)               8320      \n",
            "                                                                 \n",
            " leaky_re_lu_13 (LeakyReLU)  (None, 128)               0         \n",
            "                                                                 \n",
            " dropout_20 (Dropout)        (None, 128)               0         \n",
            "                                                                 \n",
            " dense_7 (Dense)             (None, 32)                4128      \n",
            "                                                                 \n",
            " leaky_re_lu_14 (LeakyReLU)  (None, 32)                0         \n",
            "                                                                 \n",
            " dropout_21 (Dropout)        (None, 32)                0         \n",
            "                                                                 \n",
            " dense_8 (Dense)             (None, 3)                 99        \n",
            "                                                                 \n",
            "=================================================================\n",
            "Total params: 463,091\n",
            "Trainable params: 461,971\n",
            "Non-trainable params: 1,120\n",
            "_________________________________________________________________\n"
          ]
        }
      ],
      "source": [
        "#print model summary here\n",
        "model_initial.summary()"
      ]
    },
    {
      "cell_type": "code",
      "execution_count": null,
      "metadata": {
        "id": "srUZeknV-jVc",
        "colab": {
          "base_uri": "https://localhost:8080/"
        },
        "outputId": "7033f490-3af5-4ff1-ab1d-c52bf64dfc6f"
      },
      "outputs": [
        {
          "output_type": "stream",
          "name": "stderr",
          "text": [
            "/usr/local/lib/python3.7/dist-packages/keras/optimizer_v2/adam.py:105: UserWarning: The `lr` argument is deprecated, use `learning_rate` instead.\n",
            "  super(Adam, self).__init__(name, **kwargs)\n"
          ]
        }
      ],
      "source": [
        "adam = Adam(lr = learning_rate)\n",
        "model_initial.compile(loss='categorical_crossentropy', \n",
        "              optimizer=adam, \n",
        "              metrics=['accuracy'])"
      ]
    },
    {
      "cell_type": "markdown",
      "source": [
        ""
      ],
      "metadata": {
        "id": "u7et5wKwCKtU"
      }
    },
    {
      "cell_type": "code",
      "execution_count": null,
      "metadata": {
        "id": "TIaC5Jfb-mvU",
        "colab": {
          "base_uri": "https://localhost:8080/"
        },
        "outputId": "ccd08831-66b9-43ed-846d-83f5c27cd7ed"
      },
      "outputs": [
        {
          "output_type": "stream",
          "name": "stdout",
          "text": [
            "Epoch 1/30\n",
            "21/21 [==============================] - 50s 2s/step - loss: 1.0926 - accuracy: 0.4286\n",
            "Epoch 2/30\n",
            "21/21 [==============================] - 54s 3s/step - loss: 1.0957 - accuracy: 0.4539\n",
            "Epoch 3/30\n",
            "21/21 [==============================] - 52s 2s/step - loss: 1.0757 - accuracy: 0.4286\n",
            "Epoch 4/30\n",
            "21/21 [==============================] - 53s 3s/step - loss: 1.0703 - accuracy: 0.4449\n",
            "Epoch 5/30\n",
            "21/21 [==============================] - 50s 2s/step - loss: 1.0410 - accuracy: 0.4836\n",
            "Epoch 6/30\n",
            "21/21 [==============================] - 55s 3s/step - loss: 1.0301 - accuracy: 0.4196\n",
            "Epoch 7/30\n",
            "21/21 [==============================] - 51s 3s/step - loss: 0.9973 - accuracy: 0.4866\n",
            "Epoch 8/30\n",
            "21/21 [==============================] - 55s 3s/step - loss: 0.9623 - accuracy: 0.4970\n",
            "Epoch 9/30\n",
            "21/21 [==============================] - 55s 3s/step - loss: 1.0153 - accuracy: 0.4807\n",
            "Epoch 10/30\n",
            "21/21 [==============================] - 46s 2s/step - loss: 0.9432 - accuracy: 0.5446\n",
            "Epoch 11/30\n",
            "21/21 [==============================] - 55s 3s/step - loss: 1.0398 - accuracy: 0.4568\n",
            "Epoch 12/30\n",
            "21/21 [==============================] - 51s 2s/step - loss: 0.9878 - accuracy: 0.4970\n",
            "Epoch 13/30\n",
            "21/21 [==============================] - 51s 2s/step - loss: 0.8571 - accuracy: 0.5848\n",
            "Epoch 14/30\n",
            "21/21 [==============================] - 55s 3s/step - loss: 0.9290 - accuracy: 0.5595\n",
            "Epoch 15/30\n",
            "21/21 [==============================] - 52s 2s/step - loss: 0.9365 - accuracy: 0.5283\n",
            "Epoch 16/30\n",
            "21/21 [==============================] - 53s 3s/step - loss: 0.8362 - accuracy: 0.5878\n",
            "Epoch 17/30\n",
            "21/21 [==============================] - 52s 2s/step - loss: 0.9017 - accuracy: 0.5595\n",
            "Epoch 18/30\n",
            "21/21 [==============================] - 54s 3s/step - loss: 0.8566 - accuracy: 0.5848\n",
            "Epoch 19/30\n",
            "21/21 [==============================] - 52s 2s/step - loss: 0.8816 - accuracy: 0.5699\n",
            "Epoch 20/30\n",
            "21/21 [==============================] - 52s 3s/step - loss: 0.8265 - accuracy: 0.6324\n",
            "Epoch 21/30\n",
            "21/21 [==============================] - 52s 2s/step - loss: 0.8629 - accuracy: 0.6027\n",
            "Epoch 22/30\n",
            "21/21 [==============================] - 52s 3s/step - loss: 0.7560 - accuracy: 0.6577\n",
            "Epoch 23/30\n",
            "21/21 [==============================] - 55s 3s/step - loss: 0.8278 - accuracy: 0.6310\n",
            "Epoch 24/30\n",
            "21/21 [==============================] - 52s 2s/step - loss: 0.7794 - accuracy: 0.6414\n",
            "Epoch 25/30\n",
            "21/21 [==============================] - 54s 3s/step - loss: 0.8324 - accuracy: 0.6027\n",
            "Epoch 26/30\n",
            "21/21 [==============================] - 50s 2s/step - loss: 0.7363 - accuracy: 0.6801\n",
            "Epoch 27/30\n",
            "21/21 [==============================] - 49s 2s/step - loss: 0.7883 - accuracy: 0.6369\n",
            "Epoch 28/30\n",
            "21/21 [==============================] - 57s 3s/step - loss: 0.7257 - accuracy: 0.6682\n",
            "Epoch 29/30\n",
            "21/21 [==============================] - 51s 2s/step - loss: 0.7619 - accuracy: 0.6354\n",
            "Epoch 30/30\n",
            "21/21 [==============================] - 54s 3s/step - loss: 0.7351 - accuracy: 0.6801\n"
          ]
        }
      ],
      "source": [
        "hist = model_initial.fit(data, batch_size = batch_size, epochs=epochs, steps_per_epoch=21)"
      ]
    },
    {
      "cell_type": "markdown",
      "metadata": {
        "id": "ziyg6ag0-pnl"
      },
      "source": [
        "Plot the loss and accuracy graphs of training. "
      ]
    },
    {
      "cell_type": "code",
      "execution_count": null,
      "metadata": {
        "id": "Q0DCzHGm-qUb",
        "colab": {
          "base_uri": "https://localhost:8080/",
          "height": 290
        },
        "outputId": "3e9db5ff-4780-436b-887c-879b36823861"
      },
      "outputs": [
        {
          "output_type": "execute_result",
          "data": {
            "text/plain": [
              "[<matplotlib.lines.Line2D at 0x7f42ad972b90>]"
            ]
          },
          "metadata": {},
          "execution_count": 76
        },
        {
          "output_type": "display_data",
          "data": {
            "image/png": "[encoded data removed]",
            "text/plain": [
              "<Figure size 432x288 with 1 Axes>"
            ]
          },
          "metadata": {}
        }
      ],
      "source": [
        "# Loss Plot\n",
        "plt.plot(hist.history['loss'])"
      ]
    },
    {
      "cell_type": "code",
      "execution_count": null,
      "metadata": {
        "id": "xU8tm7c6-uQf",
        "colab": {
          "base_uri": "https://localhost:8080/",
          "height": 290
        },
        "outputId": "d28fc6b5-3ed0-4f80-de2e-bf6d45943110"
      },
      "outputs": [
        {
          "output_type": "execute_result",
          "data": {
            "text/plain": [
              "[<matplotlib.lines.Line2D at 0x7f42ada84c90>]"
            ]
          },
          "metadata": {},
          "execution_count": 77
        },
        {
          "output_type": "display_data",
          "data": {
            "image/png": "[encoded data removed]",
            "text/plain": [
              "<Figure size 432x288 with 1 Axes>"
            ]
          },
          "metadata": {}
        }
      ],
      "source": [
        "# Accuracy Plot\n",
        "plt.plot(hist.history['accuracy'])"
      ]
    },
    {
      "cell_type": "markdown",
      "metadata": {
        "id": "xAME5E_q-yKM"
      },
      "source": [
        "### Evaluation"
      ]
    },
    {
      "cell_type": "markdown",
      "metadata": {
        "id": "np3mhYYa-18t"
      },
      "source": [
        "Now, we will evaluate our model on the test data."
      ]
    },
    {
      "cell_type": "code",
      "execution_count": null,
      "metadata": {
        "id": "J4NDIc7X-w01"
      },
      "outputs": [],
      "source": [
        "test_data = data_generator(test_files, 177)"
      ]
    },
    {
      "cell_type": "code",
      "execution_count": null,
      "metadata": {
        "id": "9Ii-kih2-5Xt"
      },
      "outputs": [],
      "source": [
        "predictions = model_initial.predict(next(test_data)[0])"
      ]
    },
    {
      "cell_type": "code",
      "execution_count": null,
      "metadata": {
        "id": "lghMxLgC-7AE"
      },
      "outputs": [],
      "source": [
        "pred = []\n",
        "truth = []\n",
        "for prediction in predictions:\n",
        "  pred.append(np.argmax(prediction))\n",
        "for true in next(test_data)[1]:\n",
        "  truth.append(np.argmax(true))"
      ]
    },
    {
      "cell_type": "markdown",
      "metadata": {
        "id": "_YerdbR1--rU"
      },
      "source": [
        "Calculate and print accuracy."
      ]
    },
    {
      "cell_type": "code",
      "execution_count": null,
      "metadata": {
        "id": "Ao0Nlv1X-9jM",
        "colab": {
          "base_uri": "https://localhost:8080/"
        },
        "outputId": "302c67b5-9d37-4ebf-e69b-7ecf5cb135c5"
      },
      "outputs": [
        {
          "output_type": "stream",
          "name": "stdout",
          "text": [
            "Accuracy = 63.2768361581921\n"
          ]
        }
      ],
      "source": [
        "true = 0\n",
        "total = len(pred)\n",
        "for i in range(total):\n",
        "  if pred[i] == truth[i]:\n",
        "    true = true + 1\n",
        "print(\"Accuracy =\", (true/total)*100)"
      ]
    },
    {
      "cell_type": "markdown",
      "metadata": {
        "id": "gVcW9UXD_DLN"
      },
      "source": [
        "Calculate and print Confusion Matrix. "
      ]
    },
    {
      "cell_type": "code",
      "execution_count": null,
      "metadata": {
        "id": "T-YbU_KW_FFb"
      },
      "outputs": [],
      "source": [
        "conf_mat = np.zeros((3, 3))\n",
        "c00 = 0\n",
        "c11 = 0\n",
        "c22 = 0\n",
        "c01 = 0\n",
        "c02 = 0\n",
        "c10 = 0\n",
        "c12 = 0\n",
        "c20 = 0\n",
        "c21 = 0\n",
        "for i in range(total):\n",
        "    if pred[i] == 0:\n",
        "      if truth[i] == 0:\n",
        "        c00 = c00 + 1\n",
        "      elif truth[i] == 1:\n",
        "        c01 = c01 + 1\n",
        "      elif truth[i] == 2:\n",
        "        c02 = c02 + 1\n",
        "    elif pred[i] == 1:\n",
        "      if truth[i] == 0:\n",
        "        c10 = c10 + 1\n",
        "      elif truth[i] == 1:\n",
        "        c11 = c11 + 1\n",
        "      elif truth[i] == 2:\n",
        "        c12 = c12 + 1\n",
        "    elif pred[i] == 2:\n",
        "      if truth[i] == 0:\n",
        "        c20 = c20 + 1\n",
        "      elif truth[i] == 1:\n",
        "        c21 = c21 + 1\n",
        "      elif truth[i] == 2:\n",
        "        c22 = c22 + 1\n",
        "conf_mat[0][0] = c00\n",
        "conf_mat[0][1] = c10\n",
        "conf_mat[0][2] = c20\n",
        "conf_mat[1][0] = c01\n",
        "conf_mat[1][1] = c11\n",
        "conf_mat[1][2] = c21\n",
        "conf_mat[2][0] = c02\n",
        "conf_mat[2][1] = c12\n",
        "conf_mat[2][2] = c22"
      ]
    },
    {
      "cell_type": "code",
      "execution_count": null,
      "metadata": {
        "id": "fxoKWR_k_SRt"
      },
      "outputs": [],
      "source": [
        "def plot_confusion_matrix(conf_mat):\n",
        "    classes = list(labels.keys())\n",
        "    df_cm = pd.DataFrame(conf_mat,classes,classes)\n",
        "    plt.figure(figsize=(10,7))\n",
        "    sns.set(font_scale=1.4)\n",
        "    sns.heatmap(df_cm, annot=True,annot_kws={\"size\": 16})\n",
        "    plt.show()"
      ]
    },
    {
      "cell_type": "markdown",
      "metadata": {
        "id": "9w7a2UdCWJ3Q"
      },
      "source": [
        "Use the above function to plot confusion matrix here."
      ]
    },
    {
      "cell_type": "code",
      "execution_count": null,
      "metadata": {
        "id": "d1Y6KPEW_b5b",
        "colab": {
          "base_uri": "https://localhost:8080/",
          "height": 437
        },
        "outputId": "3fef9ffa-a49b-404f-c581-b1339f1837d9"
      },
      "outputs": [
        {
          "output_type": "display_data",
          "data": {
            "image/png": "[encoded data removed]",
            "text/plain": [
              "<Figure size 720x504 with 2 Axes>"
            ]
          },
          "metadata": {}
        }
      ],
      "source": [
        "plot_confusion_matrix(conf_mat)"
      ]
    },
    {
      "cell_type": "markdown",
      "metadata": {
        "id": "m29EU7mZVrD3"
      },
      "source": [
        "### Changes to be made\n"
      ]
    },
    {
      "cell_type": "markdown",
      "metadata": {
        "id": "SxetUutBW9Px"
      },
      "source": [
        "Now that you've successfuly ran and gotten the results for the model that we built for you, make the following changes (one by one), and see how they effect the performance and the results of the model. In total, you will have the results of 5 different experiments (including those of the network already built for you)\n",
        "\n",
        "SCREENSHOT ALL THE RESULTS (INCLUDING THOSE FOR THE MODEL WE BUILT FOR YOU) AND ADD THEM TO A PDF. \n",
        "\n",
        "Change #1: Change the learning rate to 0.01. <br>\n",
        "Change #2: Change the epochs to 50 (make sure to change the learning rate back to 0.0001) <br>\n",
        "Change #3: Change the Leaky ReLU activation to ReLU (make sure to use 30 epochs and a learning rate of 0.0001) <br>\n",
        "Change #4: Increase the depth of the neural network by adding another convolutional layer (followed by the batch normalization layer, the leaky ReLU activation layer, and the dropout layer). This new piece of code will be added right before the convolution layer with the filter size of 32 in the architecture (line 14). The code to be added is as follows:     \n",
        "```\n",
        "l = Conv2D(64, kernel_size=(3,3),strides=(2,2))(l) \n",
        "l = BatchNormalization()(l) \n",
        "l = LeakyReLU()(l) \n",
        "l = Dropout(0.2)(l) \n",
        "```\n",
        "Again, this is to be added in the 14th line, i.e, between the following two lines of code in the architecture:     \n",
        "```\n",
        "l = Dropout(0.2)(l)\n",
        "l = Conv2D(32, kernel_size=(3,3),strides=(2,2))(l)\n",
        "```\n",
        "You will notice that this is the exact layer collection as the previous layer. Make sure to change all the ReLU layers back to Leaky ReLU and keep the epochs at 30 and the learning rate at 0.0001 for a controlled experiment\n"
      ]
    },
    {
      "cell_type": "markdown",
      "metadata": {
        "id": "2QeB-aefW64T"
      },
      "source": [
        "### Questions (You might need to do research)\n",
        "\n",
        "1) How did changing the learning rate impact your results? Why? \n",
        "\n",
        "\n",
        "2) How did changing the number of epochs impact your results? Why? \n",
        "\n",
        "\n",
        "3) How did changing the leaky relu function to a normal relu function impact your results? Why?\n",
        "\n",
        "4) How did adding a new layer group impact your results? Why?\n",
        "\n",
        "4) The batch normalization and the dropout layers act like regularization layers. Theoretically, what would happen if all these regularization layers are removed?\n",
        "\n",
        "5) What is class imbalance? Is there class imbalance in this problem? Why or why not?"
      ]
    }
  ],
  "metadata": {
    "colab": {
      "name": "Assignment 5.ipynb",
      "provenance": []
    },
    "kernelspec": {
      "display_name": "Python 3 (ipykernel)",
      "language": "python",
      "name": "python3"
    },
    "language_info": {
      "codemirror_mode": {
        "name": "ipython",
        "version": 3
      },
      "file_extension": ".py",
      "mimetype": "text/x-python",
      "name": "python",
      "nbconvert_exporter": "python",
      "pygments_lexer": "ipython3",
      "version": "3.9.4"
    }
  },
  "nbformat": 4,
  "nbformat_minor": 0
}